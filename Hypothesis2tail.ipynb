{
 "cells": [
  {
   "cell_type": "code",
   "execution_count": 8,
   "id": "81460c47",
   "metadata": {},
   "outputs": [],
   "source": [
    "import pandas as pd\n",
    "import numpy as np\n",
    "from scipy import stats"
   ]
  },
  {
   "cell_type": "code",
   "execution_count": 9,
   "id": "ce59f68f",
   "metadata": {},
   "outputs": [
    {
     "name": "stdout",
     "output_type": "stream",
     "text": [
      "accept null hypothesis\n"
     ]
    }
   ],
   "source": [
    "x=stats.norm.rvs(30,10,30)\n",
    "results=stats.ttest_1samp(x,27)\n",
    "alpha=0.05\n",
    "if(results[0]<0)&(results[1]/2<alpha):\n",
    "    print(\"reject null hypothesis,mean is greater than 27\")\n",
    "else:\n",
    "    print(\"accept null hypothesis\")"
   ]
  },
  {
   "cell_type": "code",
   "execution_count": 3,
   "id": "a553e46a",
   "metadata": {},
   "outputs": [],
   "source": [
    "y=stats.norm.rvs(500,10,30)\n",
    "res=stats.ttest_1samp(x,505)"
   ]
  },
  {
   "cell_type": "code",
   "execution_count": 4,
   "id": "c80f08ba",
   "metadata": {},
   "outputs": [
    {
     "data": {
      "text/plain": [
       "Ttest_1sampResult(statistic=-243.0657192724923, pvalue=1.5233181172085128e-49)"
      ]
     },
     "execution_count": 4,
     "metadata": {},
     "output_type": "execute_result"
    }
   ],
   "source": [
    "res# cant use stats.ttest as alpha is changed"
   ]
  },
  {
   "cell_type": "code",
   "execution_count": 5,
   "id": "b9db5f30",
   "metadata": {},
   "outputs": [],
   "source": [
    "import math\n",
    "xbar=505\n",
    "SEM=(10/math.sqrt(30))"
   ]
  },
  {
   "cell_type": "code",
   "execution_count": 6,
   "id": "c63b2ee5",
   "metadata": {},
   "outputs": [
    {
     "data": {
      "text/plain": [
       "2.7386127875258306"
      ]
     },
     "execution_count": 6,
     "metadata": {},
     "output_type": "execute_result"
    }
   ],
   "source": [
    "mu=500\n",
    "z=(xbar-mu)/SEM\n",
    "z"
   ]
  },
  {
   "cell_type": "code",
   "execution_count": 7,
   "id": "80f49b77",
   "metadata": {},
   "outputs": [
    {
     "data": {
      "text/plain": [
       "0.0061698993205441255"
      ]
     },
     "execution_count": 7,
     "metadata": {},
     "output_type": "execute_result"
    }
   ],
   "source": [
    "pval=2*(1-stats.norm.cdf(z))\n",
    "pval"
   ]
  }
 ],
 "metadata": {
  "kernelspec": {
   "display_name": "Python 3 (ipykernel)",
   "language": "python",
   "name": "python3"
  },
  "language_info": {
   "codemirror_mode": {
    "name": "ipython",
    "version": 3
   },
   "file_extension": ".py",
   "mimetype": "text/x-python",
   "name": "python",
   "nbconvert_exporter": "python",
   "pygments_lexer": "ipython3",
   "version": "3.9.7"
  }
 },
 "nbformat": 4,
 "nbformat_minor": 5
}
